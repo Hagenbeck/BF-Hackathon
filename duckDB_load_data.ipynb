{
 "cells": [
  {
   "cell_type": "code",
   "execution_count": 1,
   "id": "3e8b5bfe",
   "metadata": {},
   "outputs": [],
   "source": [
    "import duckdb"
   ]
  },
  {
   "cell_type": "code",
   "execution_count": null,
   "id": "ffc6ba50",
   "metadata": {},
   "outputs": [
    {
     "data": {
      "text/plain": [
       "<duckdb.duckdb.DuckDBPyConnection at 0x168c280c330>"
      ]
     },
     "execution_count": 2,
     "metadata": {},
     "output_type": "execute_result"
    }
   ],
   "source": [
    "# Establishing Connection to local database and loading of spatial functions\n",
    "con = duckdb.connect(\"hackathon.duckdb\")\n",
    "con.execute(\"\"\"INSTALL spatial;\n",
    "            LOAD spatial;\n",
    "            \"\"\")"
   ]
  },
  {
   "cell_type": "code",
   "execution_count": null,
   "id": "63607f31",
   "metadata": {},
   "outputs": [
    {
     "data": {
      "text/plain": [
       "<duckdb.duckdb.DuckDBPyConnection at 0x168c280c330>"
      ]
     },
     "execution_count": 3,
     "metadata": {},
     "output_type": "execute_result"
    }
   ],
   "source": [
    "# Opening UI of database in browser\n",
    "con.execute(\"CALL start_ui();\")"
   ]
  },
  {
   "cell_type": "code",
   "execution_count": null,
   "id": "dac870fa",
   "metadata": {},
   "outputs": [
    {
     "data": {
      "text/plain": [
       "<duckdb.duckdb.DuckDBPyConnection at 0x168c280c330>"
      ]
     },
     "execution_count": 4,
     "metadata": {},
     "output_type": "execute_result"
    }
   ],
   "source": [
    "# Loading data of existing pvs into database\n",
    "pv = r\"..\\Hackathon-Daten\\Strom-Einspeiser-ExportUTF.csv\"\n",
    "\n",
    "con.execute(f'DROP TABLE IF EXISTS pv_bestand;')\n",
    "con.execute(f\"CREATE TABLE pv_bestand AS SELECT * FROM read_csv('{pv}', delim=';', ignore_errors=true);\")"
   ]
  },
  {
   "cell_type": "code",
   "execution_count": null,
   "id": "e9c6c07f",
   "metadata": {},
   "outputs": [
    {
     "data": {
      "text/plain": [
       "<duckdb.duckdb.DuckDBPyConnection at 0x168c280c330>"
      ]
     },
     "execution_count": 5,
     "metadata": {},
     "output_type": "execute_result"
    }
   ],
   "source": [
    "# Loading relevant data, about potential pv locations, people's sociography and building information, analyzed in advance, into database\n",
    "solar = r\"..\\Hackathon-Daten\\SolarMerged\\potenzial.shp\"\n",
    "nexiga = r\"..\\Hackathon-Daten\\Datenquellen\\Nexiga Daten\\nexiga_all.shp\"\n",
    "gebaeude = r\"..\\Hackathon-Daten\\AlkisMerged\\gebaeudeBauwerke.shp\"\n",
    "\n",
    "# Load Nexiga (people's sociography)\n",
    "con.execute(\"DROP TABLE IF EXISTS Nexiga;\")\n",
    "con.execute(f\"\"\"\n",
    "    CREATE TABLE Nexiga AS\n",
    "    SELECT LCALTER, LCSCHICHT, LCBJKL, LCGCHAR, KK_IDX, LCHH, LCKUMW, LCKPRE, LCEEMOB, LCKNEU, geom \n",
    "    FROM ST_Read('{nexiga}');\n",
    "\"\"\")\n",
    "\n",
    "# Load Solar (potential pv locations)\n",
    "con.execute(\"DROP TABLE IF EXISTS Solar;\")\n",
    "con.execute(f\"\"\"\n",
    "    CREATE TABLE Solar AS \n",
    "    SELECT Yield, PvArea, geom \n",
    "    FROM ST_Read('{solar}');\n",
    "\"\"\")\n",
    "\n",
    "# Load Gebaeude (building information)\n",
    "con.execute(\"DROP TABLE IF EXISTS Gebaeude;\")\n",
    "con.execute(f\"\"\"\n",
    "    CREATE TABLE Gebaeude AS \n",
    "    SELECT geom \n",
    "    FROM ST_Read('{gebaeude}');\n",
    "\"\"\")\n"
   ]
  }
 ],
 "metadata": {
  "kernelspec": {
   "display_name": "hack",
   "language": "python",
   "name": "python3"
  },
  "language_info": {
   "codemirror_mode": {
    "name": "ipython",
    "version": 3
   },
   "file_extension": ".py",
   "mimetype": "text/x-python",
   "name": "python",
   "nbconvert_exporter": "python",
   "pygments_lexer": "ipython3",
   "version": "3.12.9"
  }
 },
 "nbformat": 4,
 "nbformat_minor": 5
}
