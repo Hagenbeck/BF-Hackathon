{
 "cells": [
  {
   "cell_type": "code",
   "execution_count": 2,
   "id": "b0e7abca",
   "metadata": {},
   "outputs": [
    {
     "name": "stderr",
     "output_type": "stream",
     "text": [
      "<>:8: SyntaxWarning: invalid escape sequence '\\H'\n",
      "<>:8: SyntaxWarning: invalid escape sequence '\\H'\n",
      "C:\\Users\\peers\\AppData\\Local\\Temp\\ipykernel_9540\\2780141797.py:8: SyntaxWarning: invalid escape sequence '\\H'\n",
      "  root_dir = \"..\\Hackathon-Daten\\Datenquellen\\ALKIS\"\n"
     ]
    },
    {
     "name": "stdout",
     "output_type": "stream",
     "text": [
      "✅ Merged 77 files into layer: flurstueck.shp\n",
      "✅ Merged 77 files into layer: gebaeudeBauwerke.shp\n",
      "✅ Merged 77 files into layer: grenzpunkt.shp\n",
      "✅ Merged 77 files into layer: katasterBezirk.shp\n",
      "✅ Merged 77 files into layer: nutzung.shp\n",
      "✅ Merged 77 files into layer: nutzungFlurstueck.shp\n",
      "✅ Merged 77 files into layer: praesentation.shp\n",
      "✅ Merged 77 files into layer: verwaltungseinheit.shp\n"
     ]
    }
   ],
   "source": [
    "import geopandas as gpd\n",
    "import os\n",
    "from collections import defaultdict\n",
    "import pandas as pd\n",
    "from pathlib import Path\n",
    "\n",
    "# Path to root directory containing all subfolders\n",
    "root_dir = \"..\\Hackathon-Daten\\Datenquellen\\ALKIS\"\n",
    "\n",
    "# Dictionary to hold grouped shapefiles\n",
    "shp_groups = defaultdict(list)\n",
    "\n",
    "# Recursively find all .shp files\n",
    "for filepath in Path(root_dir).rglob(\"*.shp\"):\n",
    "    name = filepath.name  # e.g. 'land_use.shp'\n",
    "    shp_groups[name].append(filepath)\n",
    "\n",
    "# Dictionary of merged GeoDataFrames\n",
    "merged_layers = {}\n",
    "\n",
    "for layer_name, file_list in shp_groups.items():\n",
    "    gdfs = []\n",
    "    for shp_path in file_list:\n",
    "        try:\n",
    "            gdf = gpd.read_file(shp_path)\n",
    "            gdfs.append(gdf)\n",
    "        except Exception as e:\n",
    "            print(f\"Failed to read {shp_path}: {e}\")\n",
    "    \n",
    "    # Ensure all are in same CRS\n",
    "    base_crs = gdfs[0].crs\n",
    "    gdfs = [gdf.to_crs(base_crs) for gdf in gdfs]\n",
    "    \n",
    "    # Merge all files of this layer type\n",
    "    merged_gdf = gpd.GeoDataFrame(pd.concat(gdfs, ignore_index=True), crs=base_crs)\n",
    "    merged_layers[layer_name] = merged_gdf\n",
    "\n",
    "    print(f\"Merged {len(file_list)} files into layer: {layer_name}\")"
   ]
  },
  {
   "cell_type": "code",
   "execution_count": null,
   "id": "fa671dee",
   "metadata": {},
   "outputs": [
    {
     "name": "stderr",
     "output_type": "stream",
     "text": [
      "c:\\Users\\peers\\.conda\\envs\\hack\\Lib\\site-packages\\pyogrio\\raw.py:723: RuntimeWarning: Value 'Grünland;470925|Nadelholz;86882|Laub- und Nadelholz;13479|Weg;5540|Landwirtschaftliche Betriebsfläche;4636|Gebäude- und Freifläche Land- und Forstwirtschaft;4309|Sportanlage;2728|Gehölz;1740|Straßenverkehr;1594|Teich;697|Graben;597|Lagerfläche;499|Woh...' of field tntxt has been truncated to 254 characters.  This warning will not be emitted any more for that layer.\n",
      "  ogr_write(\n"
     ]
    }
   ],
   "source": [
    "# Saving the merged layers into one file\n",
    "output_dir = \"../Hackathon-Daten/AlkisMerged\"\n",
    "os.makedirs(output_dir, exist_ok=True)\n",
    "\n",
    "for name, gdf in merged_layers.items():\n",
    "    out_path = os.path.join(output_dir, name)\n",
    "    gdf.to_file(out_path)"
   ]
  }
 ],
 "metadata": {
  "kernelspec": {
   "display_name": "hack",
   "language": "python",
   "name": "python3"
  },
  "language_info": {
   "codemirror_mode": {
    "name": "ipython",
    "version": 3
   },
   "file_extension": ".py",
   "mimetype": "text/x-python",
   "name": "python",
   "nbconvert_exporter": "python",
   "pygments_lexer": "ipython3",
   "version": "3.12.9"
  }
 },
 "nbformat": 4,
 "nbformat_minor": 5
}
